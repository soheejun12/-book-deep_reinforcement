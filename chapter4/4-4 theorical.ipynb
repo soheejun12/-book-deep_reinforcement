{
 "cells": [
  {
   "cell_type": "markdown",
   "metadata": {},
   "source": [
    "# <font color=\"blue\"> Theoretical background of the cross-entropy method <font>\n",
    "\n",
    "#### cross-entropy는 중요도 샘플링 이론(importance sampling theorem)에 근간을 둠 \n",
    "<img src=\"./image/4/if.png\">\n",
    "\n",
    "- H(x) : 획득할 수 있는 정보량 \n",
    "- p(x) : x의 확률의 실제값 \n",
    "- q(x) : x의 확률의 예측값\n",
    "- 정보이론에서의 정보량은 발생 확률이 낮을수록 높은 값을 가짐\n",
    "    - 드문 사건일수록 더 많은 정보를 얻을 수 있다 \n",
    "\n",
    "#### 강화학습의 경우, \n",
    "- H(x) : 어떠한 정책 x를 통해 얻을 수 있는 보상의 값 \n",
    "- p(x) : 모든 가능한 정책의 분포 \n",
    "\n",
    "#### 모든 가능한 정책들을 탐색하여 보상을 최대화하지 않고, 대신에 q(x)를 통해 p(x)H(x)를 근사화하는 방법을 찾을 것 \n",
    "- 즉, q(x)와 p(x) 사이의 거리를 최소화 시키는 것 \n",
    "\n",
    "#### Kullback-Leibler(KL) divergence : 두 확률분포의 거리를 구하는 방법 \n",
    "<img src = \"./image/4/kld.png\">\n",
    "\n",
    "- 첫번째 항 : entropy : 생략해도 됨 \n",
    "- 두번째 항 : cross-entropy : 딥러닝에서 자주 사용하는 최적화 함수 \n",
    "\n",
    "\n",
    "#### 두 공식을 합치면, 매 스텝마다 향상되어 p(x)H(x)를 근사하는 공식을 얻을 수 있음\n",
    "<img src = \"./image/4/q.png\">\n",
    "\n",
    "#### 강화학습의 경우로 간단화 시키면, \n",
    "<img src = \"./image/4/pi.png\">\n",
    "\n",
    "- H(x) 를 지시함수(indicator function)으로 바꿈 \n",
    "    - 에피소드의 보상이 임계값보다 크면 1, 작으면 0 \n",
    "- 이런 식으로 정책이 업데이트 됨 \n",
    "\n",
    "#### 사실, 앞의 공식은 정규화 항이 생략되어 있음 \n",
    "- 하지만 정규항 없이 사용되기도 함 \n",
    "\n",
    "#### cross entropy 방법 \n",
    "- 현재의 정책을 사용하여 에피소드를 샘플링 \n",
    "- 가장 성공적인 샘플과 정책에 대하여 negative log likelihodd를 최소화 "
   ]
  },
  {
   "cell_type": "code",
   "execution_count": null,
   "metadata": {},
   "outputs": [],
   "source": []
  }
 ],
 "metadata": {
  "kernelspec": {
   "display_name": "Python 3",
   "language": "python",
   "name": "python3"
  },
  "language_info": {
   "codemirror_mode": {
    "name": "ipython",
    "version": 3
   },
   "file_extension": ".py",
   "mimetype": "text/x-python",
   "name": "python",
   "nbconvert_exporter": "python",
   "pygments_lexer": "ipython3",
   "version": "3.5.2"
  }
 },
 "nbformat": 4,
 "nbformat_minor": 2
}
