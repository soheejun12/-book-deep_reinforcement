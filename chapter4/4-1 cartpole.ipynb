{
 "cells": [
  {
   "cell_type": "markdown",
   "metadata": {},
   "source": [
    "# <font color=\"blue\"> Cross-entropy on CartPole <font>\n",
    "\n",
    "#### 사용하는 모델은 하나의 은닉층으로 구성 (입력층-은닉층-출력층)  \n",
    "- 활성화 함수는 ReLU\n",
    "- 은닉층의 뉴런 개수는 128 \n",
    "- 하이퍼파라미터들은 대부분 tuning되지 않았으며 대부분 임의로 결정됨 "
   ]
  },
  {
   "cell_type": "code",
   "execution_count": 1,
   "metadata": {},
   "outputs": [],
   "source": [
    "import gym \n",
    "from collections import namedtuple\n",
    "import numpy as np\n",
    "from tensorboardX import SummaryWriter\n",
    "\n",
    "import torch\n",
    "import torch.nn as nn\n",
    "import torch.optim as optim"
   ]
  },
  {
   "cell_type": "code",
   "execution_count": 2,
   "metadata": {},
   "outputs": [],
   "source": [
    "HIDDEN_SIZE = 128\n",
    "BATCH_SIZE = 16 \n",
    "PERCENTILE = 70 "
   ]
  },
  {
   "cell_type": "markdown",
   "metadata": {},
   "source": [
    "- HIDDEN_SIZE : 은닉층의 뉴런 개수 \n",
    "- BATCH_SIZE : 반복마다 수행되는 에피소드의 개수 \n",
    "- PERCENTILE : 에피소드의 총보상의 백분위수, 엘리트 에피소드를 거를 때 사용 (상위 30%)"
   ]
  },
  {
   "cell_type": "code",
   "execution_count": 3,
   "metadata": {},
   "outputs": [],
   "source": [
    "class Net(nn.Module):\n",
    "    def __init__(self, obs_size, hidden_size, n_actions):\n",
    "        super(Net, self).__init__()#부모클래스의 생성자함수 호출\n",
    "        \n",
    "        self.net = nn.Sequential(nn.Linear(obs_size, hidden_size),\n",
    "                                 nn.ReLU(),\n",
    "                                 nn.Linear(hidden_size, n_actions))\n",
    "        \n",
    "    def forward(self, x):\n",
    "        return self.net(x)"
   ]
  },
  {
   "cell_type": "markdown",
   "metadata": {},
   "source": [
    "<img src =\"./image/4/nn2.png\" width=300>"
   ]
  },
  {
   "cell_type": "markdown",
   "metadata": {},
   "source": [
    "#### 입력 : 4개 : 환경 관찰에 대한 벡터 \n",
    "- 카트의 위치, 카트의 속도, 막대기의 각도, 막대기의 회전비\n",
    "\n",
    "\n",
    "#### 출력 : 2개 : 수행할 수 있는 액션의 개수만큼 존재\n",
    "- 왼쪽, 오른쪽 \n",
    "- 우리가 원하는 네트워크의 출력은 액션의 확률분포 \n",
    "- 마지막층에 softmax 비선형 함수 포함 필요 \n",
    "    \n",
    "    \n",
    "    \n",
    "    \n",
    "####  하지만 구성한 네트워크에는 softmax가 포함되지 않음 \n",
    "- Pytorch의 nn.CrossEntropyLoss 사용 \n",
    "     - softmax와 cross-entropy를 합친 것 \n",
    "     - 수치적으로 더 안정됨 \n",
    "     - 네트워크로부터 생성된 비정규화된 값을 요구 (logit)\n",
    "   "
   ]
  },
  {
   "cell_type": "code",
   "execution_count": 4,
   "metadata": {},
   "outputs": [],
   "source": [
    "Episode = namedtuple('Episode', field_names=['reward', 'steps'])\n",
    "EpisodeStep = namedtuple('EpisodeStep', field_names=['observation', 'action'])"
   ]
  },
  {
   "cell_type": "markdown",
   "metadata": {},
   "source": [
    "####  두 개의 helper class (collections 패키지의 named tuple) \n",
    "- EpisodeStep\n",
    "  - 한 에피소드 내에서 에이전트가 수행하는 각각의 step\n",
    "  - (observation, action) \n",
    "  - 엘리트 에피소드의 에피소드 스텝을 학습 데이터로 사용할 것 \n",
    "    \n",
    "    \n",
    "    \n",
    "- Episode \n",
    "  - 각 에피소드의 할인되지 않은 총보상과 EpisodeStep\n",
    "  - (total reward, EpisodeStep)"
   ]
  },
  {
   "cell_type": "code",
   "execution_count": 5,
   "metadata": {},
   "outputs": [
    {
     "data": {
      "text/plain": [
       "(__main__.Episode, __main__.EpisodeStep)"
      ]
     },
     "execution_count": 5,
     "metadata": {},
     "output_type": "execute_result"
    }
   ],
   "source": [
    "Episode, EpisodeStep"
   ]
  },
  {
   "cell_type": "markdown",
   "metadata": {},
   "source": [
    "### iterate_batches()\n",
    "- 인자 \n",
    "    - env : 환경 (Gym 라이브러리의 class instance) \n",
    "    - net : 네트워크\n",
    "    - batch_size : 매 반복마다 생성되어야 할 에피소드의 개수 \n",
    "    \n",
    "    \n",
    "    \n",
    "- 데이터 \n",
    "    - batch : (list) batch들을 모아놓은 리스트, Episode 객체를 모아놓은 리스트 \n",
    "    - episode_reward : (float) 각 현재의 에피소드의 보상 \n",
    "    - episode_step : (list) step들의 리스트, EpisodeStep 객체를 모아놓은 리스트 \n",
    "    \n",
    "    \n",
    "    \n",
    "- 첫번째 관찰을 얻기위해 환경 초기화 \n",
    "- 네트워크의 출력을 액션의 확률분포로 변환하기위한 softmax 층 정의 \n",
    "\n",
    "#### -  environment loop\n",
    "- 매 반복마다, 현재의 관찰을 PyTorch 텐서로 변환한 뒤 네트워크로 전달하여 액션의 확률을 얻음 \n",
    "\n",
    "#### 알아두어야 할 것 \n",
    "- 관찰(observation)을 (1,4) 크기의 텐서로 변환 \n",
    "    - PyTorch의 nn.Module 내에 있는 객체는 data item의 batch를 입력으로 받음 \n",
    "    - CartPole 환경의 네개의 벡터를 하나의 리스트로 네트워크에 입력\n",
    "    \n",
    "    \n",
    "- 네트워크의 출력에 softmax 함수를 적용해야 함 \n",
    "     - 네트워크의 출력층에 비선형성을 사용하지 않았기 때문에 액션에 대한 raw score를 출력함 \n",
    "     \n",
    "     \n",
    "- 텐서 unpacking 필요 \n",
    "     - 네트워와 softmax 층은 가중치를 추적할 수 있는 텐서를 반환함 \n",
    "     - .data 를 사용하여 텐서를 unpacking 한 후 numpy 배열로 변환\n",
    "     - 이 배열은 입력과 같이 2차원 구조를 가짐 \n",
    "         - 축 0은 batch의 차원\n",
    "         - 그러므로, 확률분포의 1차원 벡터를 얻기 위해서는 batch의 첫번째 요소를 가져와야 함 ([0])\n",
    "                        \n",
    "####  현재의 에피소드가 끝나고 나면 (CartPole의 stick이 바닥에 떨어지면) \n",
    "- 최종 에피소드(Episode객체 (total reward, EpisodeStep))를  batch에 저장 \n",
    "\n",
    "- episode_reward (보상누적기) 초기화\n",
    "\n",
    "- episode_step 초기화 \n",
    "- 환경을 초기화하여 다음 관찰로 사용 \n",
    "    \n",
    "####  batch가 바라는 에피소드 개수에 도달하면 \n",
    "- yield가 수행됨 \n",
    "  - yield : 함수 실행 중간에 빠져나올 수 있는 generator를 만들 때 사용 \n",
    "    - 우리의 함수는 generator, 그러므로 yield 연산이 실행되면, 제어는 바깥 반복루프로 이동되며 yield 다음 라인이 수행됨 \n",
    "  - batch를 초기화 함 \n",
    "  \n",
    "####  환경으로부터 얻은 관찰을 현재 관찰 변수로 정의 \n",
    "- 같은 과정 반복\n",
    "\n",
    "    - 관찰을 네트워크에 전달 \n",
    "    - 수행할 액션을 선택 \n",
    "    - 환경에 액션을 수행 \n",
    "    - 이런 과정을 저장 "
   ]
  },
  {
   "cell_type": "code",
   "execution_count": 6,
   "metadata": {},
   "outputs": [],
   "source": [
    "def iterate_batches(env, net, batch_size):\n",
    "    \"\"\"perparation\"\"\"\n",
    "    batch = [] #list of 'Episode'\n",
    "    episode_reward = 0.0 #reward counter for the current episode\n",
    "    episode_steps = [] #list of \"EpisodeStep\"\n",
    "    \n",
    "    obs = env.reset()\n",
    "    \n",
    "    #softmax 객체###\n",
    "    sm = nn.Softmax(dim=1)\n",
    "    \n",
    "    \n",
    "    \"\"\"environment loop\"\"\"\n",
    "    while True :\n",
    "        #observation\n",
    "        obs_v = torch.FloatTensor([obs])\n",
    "        \n",
    "        #action probability\n",
    "        #obs_v --> net --> softmax \n",
    "        #sm() __call__\n",
    "        act_probs_v = sm(net(obs_v))\n",
    "        act_probs = act_probs_v.data.numpy()[0] #(1, 4) --> (4, )\n",
    "        \n",
    "        #randomly choose action\n",
    "        action = np.random.choice(len(act_probs), p=act_probs)\n",
    "         \n",
    "        #step\n",
    "        next_obs, reward, is_done, _ = env.step(action)\n",
    "        \n",
    "        #env.render()\n",
    "        \n",
    "        #values append\n",
    "        episode_reward += reward\n",
    "        episode_steps.append(EpisodeStep(observation=obs, action=action)) #before obs, action\n",
    "        \n",
    "        \"\"\"after the stick has fallen down\"\"\"\n",
    "        if is_done : #is_done=True\n",
    "            #appending which is successly done\n",
    "            batch.append(Episode(reward=episode_reward, steps=episode_steps))\n",
    "            \n",
    "            #reset\n",
    "            episode_reward = 0.0\n",
    "            episode_steps = []\n",
    "            \n",
    "            next_obs = env.reset()\n",
    "            \n",
    "            \n",
    "            if len(batch) == batch_size : #over than 16\n",
    "                yield batch \n",
    "                \n",
    "                #break the loop  after executing next line \n",
    "                batch = [] #clear batch \n",
    "        \n",
    "        \"\"\"after action ==> current obs\"\"\"\n",
    "        obs = next_obs "
   ]
  },
  {
   "cell_type": "markdown",
   "metadata": {},
   "source": [
    "## training loop"
   ]
  },
  {
   "cell_type": "markdown",
   "metadata": {},
   "source": [
    "#### - filter_batch()\n",
    "- cross-entropy 방법의 중심부 \n",
    "- 학습에 사용할 엘리트 에피소드를 걸러내는 함수 \n",
    "\n",
    "#### 에피소드 필터링 \n",
    "- 각 에피소드마다 에피소드가 보상경계보다 높은 총보상을 가지고 있는지 검사 \n",
    "- 만약 어떤 에피소드의 총보상이 보상경계보다 더 높다면, 그 에피소드의 관찰과 액션을 학습시킬 리스트로 이동 \n",
    "- example은 (reward, step) --> (total reward, EpisodeStep) --> (total_reward, (observation, action)) \n",
    "- map(lambda step : step.observation, example.steps)\n",
    "    - example.steps의 observation "
   ]
  },
  {
   "cell_type": "code",
   "execution_count": 9,
   "metadata": {},
   "outputs": [],
   "source": [
    "def filter_batch(batch, percentile):\n",
    "    \"\"\"calculating reward\"\"\"\n",
    "    rewards = list(map(lambda s :s.reward, batch))\n",
    "    reward_bound = np.percentile(rewards, percentile) #boundary of elite \n",
    "    reward_mean = float(np.mean(rewards)) #just for monitoring \n",
    "    \n",
    "    train_obs = []\n",
    "    train_act = [] \n",
    "    \n",
    "    \"\"\"appending elite episodes\"\"\"\n",
    "    for example in batch:##\n",
    "        if example.reward < reward_bound : #에피소드 필터링 \n",
    "            continue #pass #반복문의 처음으로 이동 \n",
    "        #else \n",
    "        train_obs.extend(map(lambda step : step.observation, example.steps))\n",
    "        train_act.extend(map(lambda step : step.action, example.steps))\n",
    "        \n",
    "    train_obs_v = torch.FloatTensor(train_obs)\n",
    "    train_act_v = torch.LongTensor(train_act)\n",
    "    \n",
    "    return train_obs_v, train_act_v, reward_bound, reward_mean"
   ]
  },
  {
   "cell_type": "markdown",
   "metadata": {},
   "source": [
    "#### lambda(), map()\n",
    "- lambda s : s.reward\n",
    "    - lambda 인자 : 표현식 \n",
    "- map(lambda s : s.reward, batch) \n",
    "    - map(함수, 리스트) \n",
    "    - 리스트의 원소를 하나씩 함수에 적용 \n",
    "    \n",
    "- map(lambda s : s.reward, batch) \n",
    "    - : batch의 원소들의 reward 값 "
   ]
  },
  {
   "cell_type": "markdown",
   "metadata": {},
   "source": [
    "### Glue code\n",
    "#### 마지막으로 모든 것을 하나로 합치고 대부분 training loop로 구성된 코드 \n",
    "####  - batch 에피소드들의 보상평균 비교 \n",
    "- 보상평균이 199보다 크가면 훈련을 멈춤 \n",
    "- 왜 199?\n",
    "     - Gym에서, CartPole환경은 마지막 100개 에피소드의 평균보상이 195보다 크다면 해결되었다 간주 \n",
    "     - 하지만 우리의 방법은 너무 빨리 수렴하여 100 에피소드가 우리가 원하는 정도임 \n",
    "     - CartPole환경은 200step으로 제한되어 있음 \n",
    "          - 200step 이후에는 멈추도록 설정되어있음 \n",
    "            "
   ]
  },
  {
   "cell_type": "code",
   "execution_count": 10,
   "metadata": {},
   "outputs": [
    {
     "name": "stdout",
     "output_type": "stream",
     "text": [
      "0: loss=0.692, reward_mean=15.8, reward_bound=17.0\n",
      "1: loss=0.671, reward_mean=31.2, reward_bound=41.0\n",
      "2: loss=0.661, reward_mean=32.8, reward_bound=28.5\n",
      "3: loss=0.647, reward_mean=40.0, reward_bound=45.5\n",
      "4: loss=0.640, reward_mean=42.2, reward_bound=48.5\n",
      "5: loss=0.641, reward_mean=44.8, reward_bound=41.0\n",
      "6: loss=0.635, reward_mean=41.2, reward_bound=41.0\n",
      "7: loss=0.622, reward_mean=34.9, reward_bound=41.5\n",
      "8: loss=0.635, reward_mean=46.9, reward_bound=53.5\n",
      "9: loss=0.611, reward_mean=44.2, reward_bound=46.5\n",
      "10: loss=0.610, reward_mean=72.3, reward_bound=82.5\n",
      "11: loss=0.588, reward_mean=60.4, reward_bound=63.0\n",
      "12: loss=0.591, reward_mean=73.4, reward_bound=90.0\n",
      "13: loss=0.593, reward_mean=69.4, reward_bound=78.0\n",
      "14: loss=0.603, reward_mean=58.4, reward_bound=69.0\n",
      "15: loss=0.585, reward_mean=59.4, reward_bound=69.5\n",
      "16: loss=0.570, reward_mean=67.5, reward_bound=73.0\n",
      "17: loss=0.562, reward_mean=83.6, reward_bound=85.5\n",
      "18: loss=0.575, reward_mean=78.4, reward_bound=97.0\n",
      "19: loss=0.575, reward_mean=121.6, reward_bound=166.0\n",
      "20: loss=0.566, reward_mean=84.5, reward_bound=112.5\n",
      "21: loss=0.560, reward_mean=132.3, reward_bound=156.5\n",
      "22: loss=0.564, reward_mean=111.4, reward_bound=144.0\n",
      "23: loss=0.562, reward_mean=131.5, reward_bound=161.5\n",
      "24: loss=0.564, reward_mean=121.8, reward_bound=147.5\n",
      "25: loss=0.551, reward_mean=128.9, reward_bound=158.5\n",
      "26: loss=0.548, reward_mean=149.7, reward_bound=171.5\n",
      "27: loss=0.540, reward_mean=167.8, reward_bound=188.0\n",
      "28: loss=0.546, reward_mean=147.1, reward_bound=184.0\n",
      "29: loss=0.541, reward_mean=186.8, reward_bound=200.0\n",
      "30: loss=0.536, reward_mean=160.4, reward_bound=192.0\n",
      "31: loss=0.537, reward_mean=172.7, reward_bound=200.0\n",
      "32: loss=0.533, reward_mean=190.6, reward_bound=200.0\n",
      "33: loss=0.521, reward_mean=181.6, reward_bound=200.0\n",
      "34: loss=0.534, reward_mean=192.7, reward_bound=200.0\n",
      "35: loss=0.535, reward_mean=186.2, reward_bound=200.0\n",
      "36: loss=0.529, reward_mean=195.5, reward_bound=200.0\n",
      "37: loss=0.529, reward_mean=193.9, reward_bound=200.0\n",
      "38: loss=0.532, reward_mean=193.8, reward_bound=200.0\n",
      "39: loss=0.526, reward_mean=200.0, reward_bound=200.0\n",
      "Solved\n"
     ]
    }
   ],
   "source": [
    "if __name__ == \"__main__\":\n",
    "    env = gym.make(\"CartPole-v0\")\n",
    "    env = gym.wrappers.Monitor(env, directory=\"mon\", force=True)\n",
    "    \n",
    "    obs_size = env.observation_space.shape[0]\n",
    "    n_actions = env.action_space.n\n",
    "    \n",
    "    \"\"\"creating net\"\"\"\n",
    "    net = Net(obs_size, HIDDEN_SIZE, n_actions)\n",
    "    \n",
    "    \"\"\"objective function\"\"\"\n",
    "    objective = nn.CrossEntropyLoss()\n",
    "    \n",
    "    \"\"\"optmizer\"\"\"\n",
    "    optimizer = optim.Adam(params=net.parameters(), lr=0.01)\n",
    "    \n",
    "    \"\"\"TensorboardX\"\"\"\n",
    "    writer = SummaryWriter(comment='-cartpole')\n",
    "    \n",
    "    \n",
    "    for iter_no, batch in enumerate(iterate_batches(env, net, BATCH_SIZE)):\n",
    "        \"\"\"filtering elite\"\"\"\n",
    "        #obs from elite, act from elite, reward boundary, reward mean\n",
    "        obs_v, acts_v, reward_b, reward_m = filter_batch(batch, PERCENTILE) \n",
    "        \n",
    "        optimizer.zero_grad()\n",
    "        \n",
    "        \"\"\"send elite to net\"\"\"\n",
    "        action_scores_v = net(obs_v)\n",
    "        \n",
    "        \"\"\"loss\"\"\"\n",
    "        loss_v = objective(action_scores_v, acts_v)\n",
    "        loss_v.backward() \n",
    "        \n",
    "        optimizer.step()\n",
    "        \n",
    "        print(\"%d: loss=%.3f, reward_mean=%.1f, reward_bound=%.1f\" %(\n",
    "               iter_no, loss_v.item(), reward_m, reward_b))\n",
    "        \n",
    "        \n",
    "        \n",
    "        writer.add_scalar(\"loss\", loss_v.item(), iter_no)\n",
    "        writer.add_scalar(\"reward_bound\", reward_b, iter_no)\n",
    "        writer.add_scalar(\"reward_mean\", reward_m, iter_no)\n",
    "        \n",
    "        \n",
    "        if reward_m > 199:\n",
    "            print(\"Solved\")\n",
    "            break \n",
    "            \n",
    "    writer.close()"
   ]
  },
  {
   "cell_type": "markdown",
   "metadata": {},
   "source": [
    "\n",
    "####  이것의 아이디어는 좋은 보상을 가져다주는 엘리트 액션을 수행하도록 네트워크를 강화하는 것 \n",
    "\n"
   ]
  },
  {
   "cell_type": "markdown",
   "metadata": {},
   "source": [
    "#### 좋은 성능을 보임 \n",
    "\n",
    "<img src=\"./image/4/t-1.png\">\n",
    "\n",
    "\n",
    "- 매 반복마다 16개의 에피소드를 수행하는 것 치고는 좋은 성능 \n",
    "- TensorBoard를 통해 에이전트가 발전하는 것을 볼 수 있음\n",
    "    - 보상경계 또한 매 batch마다 발전 (올라가고있음) \n",
    "    "
   ]
  },
  {
   "cell_type": "markdown",
   "metadata": {},
   "source": [
    "####  Monitor\n",
    "- 환경 생성의 다음 라인을 uncommenting하여 사용할 수 있음 \n",
    "- (xvfb-run) 과 함께 재실행하면 프로그램은 각 학습 step마다의 비디오를 기록한 mon 디렉토리를 생성\n",
    "- 주기적으로 에이전트의 행동을 구분된 비디오 파일로 기록 \n",
    "\n",
    "    "
   ]
  },
  {
   "cell_type": "markdown",
   "metadata": {},
   "source": [
    "## - 결론 \n",
    "\n",
    "#### - 신경망은 관찰과 보상을 통해 단순히 환경에서 수행하는 것을 학습함 \n",
    "- 관찰값에 대한 어떤한 해석도 없이 \n",
    "\n",
    "#### - 다른 간단한 환경에도 적용 가능 \n",
    "- 카트와 막대기로 이루어진 환경이 아니라 수량을 관찰하여 돈을 보상으로 얻는 창고 모델일 수도 있음 \n",
    "    - 이 구현은 환경의 세부사항에 의존하지 않음 \n",
    "    \n",
    "    \n",
    "#### - 다음 섹션에서는 Gym의 다른 환경에서 같은 방법이 어떻게 적용되는지 살펴볼 것 "
   ]
  }
 ],
 "metadata": {
  "kernelspec": {
   "display_name": "Python 3",
   "language": "python",
   "name": "python3"
  },
  "language_info": {
   "codemirror_mode": {
    "name": "ipython",
    "version": 3
   },
   "file_extension": ".py",
   "mimetype": "text/x-python",
   "name": "python",
   "nbconvert_exporter": "python",
   "pygments_lexer": "ipython3",
   "version": "3.5.2"
  }
 },
 "nbformat": 4,
 "nbformat_minor": 2
}
